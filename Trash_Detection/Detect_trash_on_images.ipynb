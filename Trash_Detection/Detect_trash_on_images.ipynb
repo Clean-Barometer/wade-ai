{
 "cells": [
  {
   "cell_type": "markdown",
   "metadata": {},
   "source": [
    "# Mask R-CNN - Visualize Trash detection\n"
   ]
  },
  {
   "cell_type": "code",
   "execution_count": 2,
   "metadata": {},
   "outputs": [
    {
     "name": "stderr",
     "output_type": "stream",
     "text": [
      "/opt/anaconda3/envs/garbage/lib/python3.6/site-packages/tensorflow/python/framework/dtypes.py:458: FutureWarning: Passing (type, 1) or '1type' as a synonym of type is deprecated; in a future version of numpy, it will be understood as (type, (1,)) / '(1,)type'.\n",
      "  _np_qint8 = np.dtype([(\"qint8\", np.int8, 1)])\n",
      "/opt/anaconda3/envs/garbage/lib/python3.6/site-packages/tensorflow/python/framework/dtypes.py:459: FutureWarning: Passing (type, 1) or '1type' as a synonym of type is deprecated; in a future version of numpy, it will be understood as (type, (1,)) / '(1,)type'.\n",
      "  _np_quint8 = np.dtype([(\"quint8\", np.uint8, 1)])\n",
      "/opt/anaconda3/envs/garbage/lib/python3.6/site-packages/tensorflow/python/framework/dtypes.py:460: FutureWarning: Passing (type, 1) or '1type' as a synonym of type is deprecated; in a future version of numpy, it will be understood as (type, (1,)) / '(1,)type'.\n",
      "  _np_qint16 = np.dtype([(\"qint16\", np.int16, 1)])\n",
      "/opt/anaconda3/envs/garbage/lib/python3.6/site-packages/tensorflow/python/framework/dtypes.py:461: FutureWarning: Passing (type, 1) or '1type' as a synonym of type is deprecated; in a future version of numpy, it will be understood as (type, (1,)) / '(1,)type'.\n",
      "  _np_quint16 = np.dtype([(\"quint16\", np.uint16, 1)])\n",
      "/opt/anaconda3/envs/garbage/lib/python3.6/site-packages/tensorflow/python/framework/dtypes.py:462: FutureWarning: Passing (type, 1) or '1type' as a synonym of type is deprecated; in a future version of numpy, it will be understood as (type, (1,)) / '(1,)type'.\n",
      "  _np_qint32 = np.dtype([(\"qint32\", np.int32, 1)])\n",
      "/opt/anaconda3/envs/garbage/lib/python3.6/site-packages/tensorflow/python/framework/dtypes.py:465: FutureWarning: Passing (type, 1) or '1type' as a synonym of type is deprecated; in a future version of numpy, it will be understood as (type, (1,)) / '(1,)type'.\n",
      "  np_resource = np.dtype([(\"resource\", np.ubyte, 1)])\n"
     ]
    },
    {
     "name": "stdout",
     "output_type": "stream",
     "text": [
      "/Users/emadarmiti/Desktop/cap-s6/neural/garbage/clean_barometer/wade-ai/Trash_Detection\n"
     ]
    },
    {
     "name": "stderr",
     "output_type": "stream",
     "text": [
      "/opt/anaconda3/envs/garbage/lib/python3.6/site-packages/matplotlib/__init__.py:1405: UserWarning: \n",
      "This call to matplotlib.use() has no effect because the backend has already\n",
      "been chosen; matplotlib.use() must be called *before* pylab, matplotlib.pyplot,\n",
      "or matplotlib.backends is imported for the first time.\n",
      "\n",
      "  warnings.warn(_use_error_msg)\n",
      "Using TensorFlow backend.\n"
     ]
    },
    {
     "name": "stdout",
     "output_type": "stream",
     "text": [
      "Weights being used:  weights/mask_rcnn_trash_0200_030519_large.h5\n"
     ]
    }
   ],
   "source": [
    "import os\n",
    "import sys\n",
    "import random\n",
    "import math\n",
    "import re\n",
    "import time\n",
    "import glob\n",
    "import skimage\n",
    "import numpy as np\n",
    "import tensorflow as tf\n",
    "import matplotlib\n",
    "import matplotlib.pyplot as plt\n",
    "import matplotlib.patches as patches\n",
    "\n",
    "# Root directory of the project. \n",
    "# Change in case you want to put the notebook somewhere else.\n",
    "ROOT_DIR = os.getcwd()\n",
    "print(ROOT_DIR)\n",
    "\n",
    "# Import Mask RCNN\n",
    "sys.path.append(ROOT_DIR)  # To find local version of the library\n",
    "from mrcnn import utils\n",
    "from mrcnn import visualize\n",
    "from mrcnn.visualize import display_images\n",
    "import mrcnn.model as modellib\n",
    "from mrcnn.model import log\n",
    "\n",
    "from trash import trash\n",
    "\n",
    "%matplotlib inline \n",
    "\n",
    "# Directory to save logs and trained model\n",
    "MODEL_DIR = os.path.join(ROOT_DIR, \"logs\")\n",
    "\n",
    "# Path to Trash trained weights\n",
    "TRASH_WEIGHTS_PATH = \"weights/mask_rcnn_trash_0200_030519_large.h5\" \n",
    "#the best\n",
    "\n",
    "print('Weights being used: ', TRASH_WEIGHTS_PATH)\n"
   ]
  },
  {
   "cell_type": "markdown",
   "metadata": {},
   "source": [
    "## Configurations"
   ]
  },
  {
   "cell_type": "code",
   "execution_count": 3,
   "metadata": {},
   "outputs": [
    {
     "data": {
      "text/plain": [
       "'trash'"
      ]
     },
     "execution_count": 3,
     "metadata": {},
     "output_type": "execute_result"
    }
   ],
   "source": [
    "config = trash.TrashConfig()\n",
    "TRASH_DIR = 'trash'\n",
    "TRASH_DIR"
   ]
  },
  {
   "cell_type": "code",
   "execution_count": 4,
   "metadata": {},
   "outputs": [
    {
     "name": "stdout",
     "output_type": "stream",
     "text": [
      "\n",
      "Configurations:\n",
      "BACKBONE                       resnet101\n",
      "BACKBONE_STRIDES               [4, 8, 16, 32, 64]\n",
      "BATCH_SIZE                     1\n",
      "BBOX_STD_DEV                   [0.1 0.1 0.2 0.2]\n",
      "COMPUTE_BACKBONE_SHAPE         None\n",
      "DETECTION_MAX_INSTANCES        100\n",
      "DETECTION_MIN_CONFIDENCE       0.95\n",
      "DETECTION_NMS_THRESHOLD        0.3\n",
      "FPN_CLASSIF_FC_LAYERS_SIZE     1024\n",
      "GPU_COUNT                      1\n",
      "GRADIENT_CLIP_NORM             5.0\n",
      "IMAGES_PER_GPU                 1\n",
      "IMAGE_CHANNEL_COUNT            3\n",
      "IMAGE_MAX_DIM                  1024\n",
      "IMAGE_META_SIZE                14\n",
      "IMAGE_MIN_DIM                  1024\n",
      "IMAGE_MIN_SCALE                0\n",
      "IMAGE_RESIZE_MODE              square\n",
      "IMAGE_SHAPE                    [1024 1024    3]\n",
      "LEARNING_MOMENTUM              0.9\n",
      "LEARNING_RATE                  0.001\n",
      "LOSS_WEIGHTS                   {'rpn_class_loss': 1.0, 'rpn_bbox_loss': 1.0, 'mrcnn_class_loss': 1.0, 'mrcnn_bbox_loss': 1.0, 'mrcnn_mask_loss': 1.0}\n",
      "MASK_POOL_SIZE                 14\n",
      "MASK_SHAPE                     [28, 28]\n",
      "MAX_GT_INSTANCES               100\n",
      "MEAN_PIXEL                     [123.7 116.8 103.9]\n",
      "MINI_MASK_SHAPE                (56, 56)\n",
      "NAME                           trash\n",
      "NUM_CLASSES                    2\n",
      "POOL_SIZE                      7\n",
      "POST_NMS_ROIS_INFERENCE        1000\n",
      "POST_NMS_ROIS_TRAINING         2000\n",
      "PRE_NMS_LIMIT                  6000\n",
      "ROI_POSITIVE_RATIO             0.33\n",
      "RPN_ANCHOR_RATIOS              [0.5, 1, 2]\n",
      "RPN_ANCHOR_SCALES              (32, 64, 128, 256, 512)\n",
      "RPN_ANCHOR_STRIDE              1\n",
      "RPN_BBOX_STD_DEV               [0.1 0.1 0.2 0.2]\n",
      "RPN_NMS_THRESHOLD              0.7\n",
      "RPN_TRAIN_ANCHORS_PER_IMAGE    256\n",
      "STEPS_PER_EPOCH                17\n",
      "TOP_DOWN_PYRAMID_SIZE          256\n",
      "TRAIN_BN                       False\n",
      "TRAIN_ROIS_PER_IMAGE           200\n",
      "USE_MINI_MASK                  True\n",
      "USE_RPN_ROIS                   True\n",
      "VALIDATION_STEPS               50\n",
      "WEIGHT_DECAY                   0.0001\n",
      "\n",
      "\n"
     ]
    }
   ],
   "source": [
    "# Override the training configurations with a few\n",
    "# changes for inferencing.\n",
    "class InferenceConfig(config.__class__):\n",
    "    # Run detection on one image at a time\n",
    "    GPU_COUNT = 1\n",
    "    IMAGES_PER_GPU = 1\n",
    "\n",
    "config = InferenceConfig()\n",
    "config.display()"
   ]
  },
  {
   "cell_type": "markdown",
   "metadata": {},
   "source": [
    "## Notebook Preferences"
   ]
  },
  {
   "cell_type": "code",
   "execution_count": 5,
   "metadata": {},
   "outputs": [],
   "source": [
    "# Device to load the neural network on.\n",
    "# Useful if you're training a model on the same \n",
    "# machine, in which case use CPU and leave the\n",
    "# GPU for training.\n",
    "DEVICE = \"/cpu:0\"  # /cpu:0 or /gpu:0\n",
    "\n",
    "# Inspect the model in training or inference modes\n",
    "# values: 'inference' or 'training'\n",
    "# TODO: code for 'training' test mode not ready yet\n",
    "TEST_MODE = \"inference\""
   ]
  },
  {
   "cell_type": "code",
   "execution_count": 6,
   "metadata": {},
   "outputs": [],
   "source": [
    "def get_ax(rows=1, cols=1, size=16):\n",
    "    \"\"\"Return a Matplotlib Axes array to be used in\n",
    "    all visualizations in the notebook. Provide a\n",
    "    central point to control graph sizes.\n",
    "    \n",
    "    Adjust the size attribute to control how big to render images\n",
    "    \"\"\"\n",
    "    _, ax = plt.subplots(rows, cols, figsize=(size*cols, size*rows))\n",
    "    return ax"
   ]
  },
  {
   "cell_type": "markdown",
   "metadata": {},
   "source": [
    "## Load Validation Dataset"
   ]
  },
  {
   "cell_type": "code",
   "execution_count": 7,
   "metadata": {},
   "outputs": [
    {
     "name": "stdout",
     "output_type": "stream",
     "text": [
      "Images: 0\n",
      "Classes: ['BG', 'trash']\n"
     ]
    }
   ],
   "source": [
    "# Load validation dataset\n",
    "dataset = trash.TrashDataset()\n",
    "dataset.load_trash(TRASH_DIR, \"val\")\n",
    "\n",
    "# Must call before using the dataset\n",
    "dataset.prepare()\n",
    "\n",
    "print(\"Images: {}\\nClasses: {}\".format(len(dataset.image_ids), dataset.class_names))"
   ]
  },
  {
   "cell_type": "markdown",
   "metadata": {},
   "source": [
    "## Load Model"
   ]
  },
  {
   "cell_type": "code",
   "execution_count": 8,
   "metadata": {},
   "outputs": [],
   "source": [
    "# Create model in inference mode\n",
    "with tf.device(DEVICE):\n",
    "    model = modellib.MaskRCNN(mode=\"inference\", model_dir=MODEL_DIR,config=config)"
   ]
  },
  {
   "cell_type": "code",
   "execution_count": null,
   "metadata": {
    "scrolled": false
   },
   "outputs": [],
   "source": [
    "# Load the weights you trained\n",
    "weights_path = os.path.join(ROOT_DIR, TRASH_WEIGHTS_PATH)\n",
    "model.load_weights(weights_path, by_name=True)\n",
    "print(\"Loading weights \", TRASH_WEIGHTS_PATH)"
   ]
  },
  {
   "cell_type": "markdown",
   "metadata": {},
   "source": [
    "## Select test images"
   ]
  },
  {
   "cell_type": "code",
   "execution_count": null,
   "metadata": {},
   "outputs": [],
   "source": [
    "# Get images from the directory of all the test images\n",
    "\n",
    "#TODO: tee mingi selection google street view imagitest siia hoopis.\n",
    "\n",
    "jpg = glob.glob(\"images/*.jpg\")\n",
    "jpeg = glob.glob(\"images/*.jpeg\")\n",
    "jpg.extend(jpeg)\n",
    "jpg"
   ]
  },
  {
   "cell_type": "markdown",
   "metadata": {},
   "source": [
    "## Run detection on images"
   ]
  },
  {
   "cell_type": "code",
   "execution_count": 1,
   "metadata": {
    "scrolled": false
   },
   "outputs": [
    {
     "ename": "NameError",
     "evalue": "name 'jpg' is not defined",
     "output_type": "error",
     "traceback": [
      "\u001b[0;31m---------------------------------------------------------------------------\u001b[0m",
      "\u001b[0;31mNameError\u001b[0m                                 Traceback (most recent call last)",
      "\u001b[0;32m<ipython-input-1-ae41ad9380e4>\u001b[0m in \u001b[0;36m<module>\u001b[0;34m()\u001b[0m\n\u001b[1;32m      1\u001b[0m \u001b[0mtest\u001b[0m \u001b[0;34m=\u001b[0m \u001b[0;34m[\u001b[0m\u001b[0;34m]\u001b[0m\u001b[0;34m\u001b[0m\u001b[0;34m\u001b[0m\u001b[0m\n\u001b[0;32m----> 2\u001b[0;31m \u001b[0;32mfor\u001b[0m \u001b[0mimage\u001b[0m \u001b[0;32min\u001b[0m \u001b[0mjpg\u001b[0m\u001b[0;34m:\u001b[0m\u001b[0;34m\u001b[0m\u001b[0;34m\u001b[0m\u001b[0m\n\u001b[0m\u001b[1;32m      3\u001b[0m     \u001b[0mimage\u001b[0m \u001b[0;34m=\u001b[0m \u001b[0mskimage\u001b[0m\u001b[0;34m.\u001b[0m\u001b[0mio\u001b[0m\u001b[0;34m.\u001b[0m\u001b[0mimread\u001b[0m\u001b[0;34m(\u001b[0m\u001b[0;34m'{}'\u001b[0m\u001b[0;34m.\u001b[0m\u001b[0mformat\u001b[0m\u001b[0;34m(\u001b[0m\u001b[0mimage\u001b[0m\u001b[0;34m)\u001b[0m\u001b[0;34m)\u001b[0m\u001b[0;34m\u001b[0m\u001b[0;34m\u001b[0m\u001b[0m\n\u001b[1;32m      4\u001b[0m     \u001b[0mprint\u001b[0m\u001b[0;34m(\u001b[0m\u001b[0mtype\u001b[0m\u001b[0;34m(\u001b[0m\u001b[0mimage\u001b[0m\u001b[0;34m)\u001b[0m\u001b[0;34m)\u001b[0m\u001b[0;34m\u001b[0m\u001b[0;34m\u001b[0m\u001b[0m\n\u001b[1;32m      5\u001b[0m     \u001b[0;31m# Run object detection\u001b[0m\u001b[0;34m\u001b[0m\u001b[0;34m\u001b[0m\u001b[0;34m\u001b[0m\u001b[0m\n",
      "\u001b[0;31mNameError\u001b[0m: name 'jpg' is not defined"
     ]
    }
   ],
   "source": [
    "test = []\n",
    "for image in jpg:\n",
    "    image = skimage.io.imread('{}'.format(image))\n",
    "    print(type(image))\n",
    "    # Run object detection\n",
    "    results = model.detect([image], verbose=1)\n",
    "\n",
    "    # Display results\n",
    "    \n",
    "    r = results[0]\n",
    "    test.append(visualize.display_instances(image, r['rois'], r['masks'], r['class_ids'], \n",
    "                                dataset.class_names, r['scores'],\n",
    "                                title=\"Predictions\"))\n",
    "    break"
   ]
  },
  {
   "cell_type": "code",
   "execution_count": 17,
   "metadata": {},
   "outputs": [],
   "source": [
    "text_file = open(\"uri.txt\", \"w\")\n",
    "text_file.write(\"data:image/jpeg;base64,\"+result)\n",
    "text_file.close()"
   ]
  },
  {
   "cell_type": "code",
   "execution_count": 11,
   "metadata": {},
   "outputs": [],
   "source": [
    "import cv2"
   ]
  },
  {
   "cell_type": "code",
   "execution_count": 12,
   "metadata": {},
   "outputs": [],
   "source": [
    "retval, buffer = cv2.imencode('.jpg', test[0])"
   ]
  },
  {
   "cell_type": "code",
   "execution_count": 42,
   "metadata": {},
   "outputs": [],
   "source": [
    "jpg_as_text = base64.b64encode(buffer)\n",
    "\n",
    "result = jpg_as_text.decode('ASCII')"
   ]
  },
  {
   "cell_type": "code",
   "execution_count": 47,
   "metadata": {},
   "outputs": [],
   "source": [
    "jpg_original = base64.b64decode(result)\n",
    "jpg_as_np = np.frombuffer(jpg_original, dtype=np.uint8)\n",
    "img = cv2.imdecode(jpg_as_np, flags=1)"
   ]
  },
  {
   "cell_type": "code",
   "execution_count": 48,
   "metadata": {},
   "outputs": [
    {
     "data": {
      "text/plain": [
       "array([[[104, 130, 154],\n",
       "        [104, 130, 154],\n",
       "        [104, 130, 154],\n",
       "        ...,\n",
       "        [173, 176, 181],\n",
       "        [173, 176, 181],\n",
       "        [173, 176, 181]],\n",
       "\n",
       "       [[104, 130, 154],\n",
       "        [104, 130, 154],\n",
       "        [104, 130, 154],\n",
       "        ...,\n",
       "        [173, 176, 181],\n",
       "        [173, 176, 181],\n",
       "        [173, 176, 181]],\n",
       "\n",
       "       [[104, 130, 154],\n",
       "        [104, 130, 154],\n",
       "        [104, 130, 154],\n",
       "        ...,\n",
       "        [173, 176, 181],\n",
       "        [173, 176, 181],\n",
       "        [173, 176, 181]]], dtype=uint8)"
      ]
     },
     "execution_count": 48,
     "metadata": {},
     "output_type": "execute_result"
    }
   ],
   "source": [
    "img[:3]"
   ]
  },
  {
   "cell_type": "code",
   "execution_count": 31,
   "metadata": {},
   "outputs": [
    {
     "data": {
      "text/plain": [
       "b'/9j/4AAQSkZJRgABAQAAAQABAAD/2wBDAA'"
      ]
     },
     "execution_count": 31,
     "metadata": {},
     "output_type": "execute_result"
    }
   ],
   "source": [
    "result.encode('ASCII')[:34]"
   ]
  },
  {
   "cell_type": "code",
   "execution_count": 30,
   "metadata": {},
   "outputs": [
    {
     "ename": "TypeError",
     "evalue": "an integer is required (got type bytes)",
     "output_type": "error",
     "traceback": [
      "\u001b[0;31m---------------------------------------------------------------------------\u001b[0m",
      "\u001b[0;31mTypeError\u001b[0m                                 Traceback (most recent call last)",
      "\u001b[0;32m<ipython-input-30-3f78515510d5>\u001b[0m in \u001b[0;36m<module>\u001b[0;34m()\u001b[0m\n\u001b[0;32m----> 1\u001b[0;31m \u001b[0mcv2\u001b[0m\u001b[0;34m.\u001b[0m\u001b[0mimdecode\u001b[0m\u001b[0;34m(\u001b[0m\u001b[0;34m'.jpg'\u001b[0m\u001b[0;34m,\u001b[0m \u001b[0mbase64\u001b[0m\u001b[0;34m.\u001b[0m\u001b[0mb64decode\u001b[0m\u001b[0;34m(\u001b[0m\u001b[0mresult\u001b[0m\u001b[0;34m.\u001b[0m\u001b[0mencode\u001b[0m\u001b[0;34m(\u001b[0m\u001b[0;34m'ASCII'\u001b[0m\u001b[0;34m)\u001b[0m\u001b[0;34m)\u001b[0m\u001b[0;34m)\u001b[0m\u001b[0;34m[\u001b[0m\u001b[0;34m:\u001b[0m\u001b[0;36m34\u001b[0m\u001b[0;34m]\u001b[0m\u001b[0;34m\u001b[0m\u001b[0;34m\u001b[0m\u001b[0m\n\u001b[0m",
      "\u001b[0;31mTypeError\u001b[0m: an integer is required (got type bytes)"
     ]
    }
   ],
   "source": [
    "cv2.imdecode('.jpg', base64.b64decode(result.encode('ASCII')))[:34]"
   ]
  },
  {
   "cell_type": "code",
   "execution_count": null,
   "metadata": {},
   "outputs": [],
   "source": []
  },
  {
   "cell_type": "code",
   "execution_count": 14,
   "metadata": {},
   "outputs": [],
   "source": [
    "import base64"
   ]
  },
  {
   "cell_type": "code",
   "execution_count": null,
   "metadata": {},
   "outputs": [],
   "source": []
  },
  {
   "cell_type": "code",
   "execution_count": 11,
   "metadata": {
    "scrolled": true
   },
   "outputs": [
    {
     "data": {
      "text/plain": [
       "array([[[104, 130, 153],\n",
       "        [104, 130, 153],\n",
       "        [104, 130, 153],\n",
       "        ...,\n",
       "        [173, 176, 181],\n",
       "        [173, 176, 181],\n",
       "        [173, 176, 181]],\n",
       "\n",
       "       [[104, 130, 153],\n",
       "        [104, 130, 153],\n",
       "        [104, 130, 153],\n",
       "        ...,\n",
       "        [173, 176, 181],\n",
       "        [173, 176, 181],\n",
       "        [173, 176, 181]],\n",
       "\n",
       "       [[104, 130, 153],\n",
       "        [104, 130, 153],\n",
       "        [104, 130, 153],\n",
       "        ...,\n",
       "        [173, 176, 181],\n",
       "        [173, 176, 181],\n",
       "        [173, 176, 181]],\n",
       "\n",
       "       ...,\n",
       "\n",
       "       [[113, 139, 164],\n",
       "        [113, 139, 164],\n",
       "        [112, 138, 163],\n",
       "        ...,\n",
       "        [179, 182, 187],\n",
       "        [179, 182, 187],\n",
       "        [179, 182, 187]],\n",
       "\n",
       "       [[113, 139, 164],\n",
       "        [113, 139, 164],\n",
       "        [113, 139, 164],\n",
       "        ...,\n",
       "        [179, 182, 187],\n",
       "        [179, 182, 187],\n",
       "        [179, 182, 187]],\n",
       "\n",
       "       [[113, 139, 164],\n",
       "        [113, 139, 164],\n",
       "        [113, 139, 164],\n",
       "        ...,\n",
       "        [179, 182, 187],\n",
       "        [179, 182, 187],\n",
       "        [179, 182, 187]]], dtype=uint32)"
      ]
     },
     "execution_count": 11,
     "metadata": {},
     "output_type": "execute_result"
    }
   ],
   "source": [
    "test[0][:120]dd"
   ]
  },
  {
   "cell_type": "code",
   "execution_count": 20,
   "metadata": {},
   "outputs": [
    {
     "data": {
      "text/plain": [
       "'data:image/jpeg;base64,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'"
      ]
     },
     "execution_count": 20,
     "metadata": {},
     "output_type": "execute_result"
    }
   ],
   "source": []
  },
  {
   "cell_type": "code",
   "execution_count": 14,
   "metadata": {},
   "outputs": [],
   "source": [
    "from keras.preprocessing.image import img_to_array"
   ]
  },
  {
   "cell_type": "code",
   "execution_count": null,
   "metadata": {},
   "outputs": [],
   "source": []
  },
  {
   "cell_type": "code",
   "execution_count": 1,
   "metadata": {},
   "outputs": [],
   "source": [
    "from GPSPhoto import gpsphoto\n"
   ]
  },
  {
   "cell_type": "code",
   "execution_count": 3,
   "metadata": {},
   "outputs": [
    {
     "name": "stdout",
     "output_type": "stream",
     "text": [
      "{'Latitude': 41.652202777777774, 'Longitude': -0.8810027777777778, 'Altitude': 0}\n"
     ]
    }
   ],
   "source": [
    "gpsLocation = gpsphoto.getGPSData(\"img (1).jpg\")\n",
    "print(gpsLocation)"
   ]
  },
  {
   "cell_type": "code",
   "execution_count": null,
   "metadata": {},
   "outputs": [],
   "source": []
  }
 ],
 "metadata": {
  "kernelspec": {
   "display_name": "Python 3",
   "language": "python",
   "name": "python3"
  },
  "language_info": {
   "codemirror_mode": {
    "name": "ipython",
    "version": 3
   },
   "file_extension": ".py",
   "mimetype": "text/x-python",
   "name": "python",
   "nbconvert_exporter": "python",
   "pygments_lexer": "ipython3",
   "version": "3.6.12"
  }
 },
 "nbformat": 4,
 "nbformat_minor": 2
}
